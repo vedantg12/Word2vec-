{
 "cells": [
  {
   "cell_type": "code",
   "execution_count": 1,
   "metadata": {},
   "outputs": [],
   "source": [
    "import os\n",
    "memory = '10g'\n",
    "pyspark_submit_args = ' --driver-memory ' + memory + ' pyspark-shell'\n",
    "os.environ[\"PYSPARK_SUBMIT_ARGS\"] = pyspark_submit_args"
   ]
  },
  {
   "cell_type": "code",
   "execution_count": 2,
   "metadata": {},
   "outputs": [],
   "source": [
    "from pyspark.ml.feature import Word2Vec\n",
    "from pyspark.context import SparkContext\n",
    "from pyspark.sql.session import SparkSession\n",
    "from pyspark.sql import SQLContext\n",
    "import pandas as pd\n",
    "import nltk\n",
    "from numpy.linalg import norm\n",
    "import numpy as np\n",
    "df = pd.read_csv('train.csv')"
   ]
  },
  {
   "cell_type": "code",
   "execution_count": 3,
   "metadata": {},
   "outputs": [
    {
     "data": {
      "text/html": [
       "<div>\n",
       "<style>\n",
       "    .dataframe thead tr:only-child th {\n",
       "        text-align: right;\n",
       "    }\n",
       "\n",
       "    .dataframe thead th {\n",
       "        text-align: left;\n",
       "    }\n",
       "\n",
       "    .dataframe tbody tr th {\n",
       "        vertical-align: top;\n",
       "    }\n",
       "</style>\n",
       "<table border=\"1\" class=\"dataframe\">\n",
       "  <thead>\n",
       "    <tr style=\"text-align: right;\">\n",
       "      <th></th>\n",
       "      <th>id</th>\n",
       "      <th>qid1</th>\n",
       "      <th>qid2</th>\n",
       "      <th>question1</th>\n",
       "      <th>question2</th>\n",
       "      <th>is_duplicate</th>\n",
       "    </tr>\n",
       "  </thead>\n",
       "  <tbody>\n",
       "    <tr>\n",
       "      <th>0</th>\n",
       "      <td>0</td>\n",
       "      <td>1</td>\n",
       "      <td>2</td>\n",
       "      <td>What is the step by step guide to invest in sh...</td>\n",
       "      <td>What is the step by step guide to invest in sh...</td>\n",
       "      <td>0</td>\n",
       "    </tr>\n",
       "    <tr>\n",
       "      <th>1</th>\n",
       "      <td>1</td>\n",
       "      <td>3</td>\n",
       "      <td>4</td>\n",
       "      <td>What is the story of Kohinoor (Koh-i-Noor) Dia...</td>\n",
       "      <td>What would happen if the Indian government sto...</td>\n",
       "      <td>0</td>\n",
       "    </tr>\n",
       "    <tr>\n",
       "      <th>2</th>\n",
       "      <td>2</td>\n",
       "      <td>5</td>\n",
       "      <td>6</td>\n",
       "      <td>How can I increase the speed of my internet co...</td>\n",
       "      <td>How can Internet speed be increased by hacking...</td>\n",
       "      <td>0</td>\n",
       "    </tr>\n",
       "  </tbody>\n",
       "</table>\n",
       "</div>"
      ],
      "text/plain": [
       "   id  qid1  qid2                                          question1  \\\n",
       "0   0     1     2  What is the step by step guide to invest in sh...   \n",
       "1   1     3     4  What is the story of Kohinoor (Koh-i-Noor) Dia...   \n",
       "2   2     5     6  How can I increase the speed of my internet co...   \n",
       "\n",
       "                                           question2  is_duplicate  \n",
       "0  What is the step by step guide to invest in sh...             0  \n",
       "1  What would happen if the Indian government sto...             0  \n",
       "2  How can Internet speed be increased by hacking...             0  "
      ]
     },
     "execution_count": 3,
     "metadata": {},
     "output_type": "execute_result"
    }
   ],
   "source": [
    "df.head(3)"
   ]
  },
  {
   "cell_type": "code",
   "execution_count": 4,
   "metadata": {},
   "outputs": [
    {
     "data": {
      "text/plain": [
       "'What is the step by step guide to invest in share market in india?'"
      ]
     },
     "execution_count": 4,
     "metadata": {},
     "output_type": "execute_result"
    }
   ],
   "source": [
    "df['question1'][0]"
   ]
  },
  {
   "cell_type": "code",
   "execution_count": 5,
   "metadata": {},
   "outputs": [
    {
     "data": {
      "text/plain": [
       "id              0\n",
       "qid1            0\n",
       "qid2            0\n",
       "question1       0\n",
       "question2       2\n",
       "is_duplicate    0\n",
       "dtype: int64"
      ]
     },
     "execution_count": 5,
     "metadata": {},
     "output_type": "execute_result"
    }
   ],
   "source": [
    "# lets check for some null values..\n",
    "df.isnull().sum()"
   ]
  },
  {
   "cell_type": "code",
   "execution_count": 6,
   "metadata": {},
   "outputs": [],
   "source": [
    "df.dropna(how='any',axis=0,inplace=True)"
   ]
  },
  {
   "cell_type": "code",
   "execution_count": 7,
   "metadata": {},
   "outputs": [
    {
     "data": {
      "text/plain": [
       "id              0\n",
       "qid1            0\n",
       "qid2            0\n",
       "question1       0\n",
       "question2       0\n",
       "is_duplicate    0\n",
       "dtype: int64"
      ]
     },
     "execution_count": 7,
     "metadata": {},
     "output_type": "execute_result"
    }
   ],
   "source": [
    "df.isnull().sum()"
   ]
  },
  {
   "cell_type": "code",
   "execution_count": 8,
   "metadata": {},
   "outputs": [
    {
     "name": "stdout",
     "output_type": "stream",
     "text": [
      "Total number of questions 404288\n"
     ]
    }
   ],
   "source": [
    "print(\"Total number of questions\",len(df))"
   ]
  },
  {
   "cell_type": "code",
   "execution_count": 9,
   "metadata": {},
   "outputs": [
    {
     "data": {
      "text/html": [
       "<div>\n",
       "<style>\n",
       "    .dataframe thead tr:only-child th {\n",
       "        text-align: right;\n",
       "    }\n",
       "\n",
       "    .dataframe thead th {\n",
       "        text-align: left;\n",
       "    }\n",
       "\n",
       "    .dataframe tbody tr th {\n",
       "        vertical-align: top;\n",
       "    }\n",
       "</style>\n",
       "<table border=\"1\" class=\"dataframe\">\n",
       "  <thead>\n",
       "    <tr style=\"text-align: right;\">\n",
       "      <th></th>\n",
       "      <th>id</th>\n",
       "      <th>qid1</th>\n",
       "      <th>qid2</th>\n",
       "      <th>question1</th>\n",
       "      <th>question2</th>\n",
       "      <th>is_duplicate</th>\n",
       "    </tr>\n",
       "  </thead>\n",
       "  <tbody>\n",
       "    <tr>\n",
       "      <th>0</th>\n",
       "      <td>0</td>\n",
       "      <td>1</td>\n",
       "      <td>2</td>\n",
       "      <td>What is the step by step guide to invest in sh...</td>\n",
       "      <td>What is the step by step guide to invest in sh...</td>\n",
       "      <td>0</td>\n",
       "    </tr>\n",
       "    <tr>\n",
       "      <th>1</th>\n",
       "      <td>1</td>\n",
       "      <td>3</td>\n",
       "      <td>4</td>\n",
       "      <td>What is the story of Kohinoor (Koh-i-Noor) Dia...</td>\n",
       "      <td>What would happen if the Indian government sto...</td>\n",
       "      <td>0</td>\n",
       "    </tr>\n",
       "    <tr>\n",
       "      <th>2</th>\n",
       "      <td>2</td>\n",
       "      <td>5</td>\n",
       "      <td>6</td>\n",
       "      <td>How can I increase the speed of my internet co...</td>\n",
       "      <td>How can Internet speed be increased by hacking...</td>\n",
       "      <td>0</td>\n",
       "    </tr>\n",
       "  </tbody>\n",
       "</table>\n",
       "</div>"
      ],
      "text/plain": [
       "   id  qid1  qid2                                          question1  \\\n",
       "0   0     1     2  What is the step by step guide to invest in sh...   \n",
       "1   1     3     4  What is the story of Kohinoor (Koh-i-Noor) Dia...   \n",
       "2   2     5     6  How can I increase the speed of my internet co...   \n",
       "\n",
       "                                           question2  is_duplicate  \n",
       "0  What is the step by step guide to invest in sh...             0  \n",
       "1  What would happen if the Indian government sto...             0  \n",
       "2  How can Internet speed be increased by hacking...             0  "
      ]
     },
     "execution_count": 9,
     "metadata": {},
     "output_type": "execute_result"
    }
   ],
   "source": [
    "df.head(3)"
   ]
  },
  {
   "cell_type": "code",
   "execution_count": 10,
   "metadata": {},
   "outputs": [],
   "source": [
    "data_analysis = pd.Series(df['question1'].tolist() + df['question2'].tolist()).astype(str)"
   ]
  },
  {
   "cell_type": "code",
   "execution_count": 11,
   "metadata": {},
   "outputs": [
    {
     "data": {
      "text/plain": [
       "0    What is the step by step guide to invest in sh...\n",
       "1    What is the story of Kohinoor (Koh-i-Noor) Dia...\n",
       "2    How can I increase the speed of my internet co...\n",
       "3    Why am I mentally very lonely? How can I solve...\n",
       "4    Which one dissolve in water quikly sugar, salt...\n",
       "dtype: object"
      ]
     },
     "execution_count": 11,
     "metadata": {},
     "output_type": "execute_result"
    }
   ],
   "source": [
    "data_analysis[0:5]"
   ]
  },
  {
   "cell_type": "code",
   "execution_count": 133,
   "metadata": {},
   "outputs": [
    {
     "data": {
      "image/png": "[encoded data removed]",
      "text/plain": [
       "<matplotlib.figure.Figure at 0x1a1a9bd1d0>"
      ]
     },
     "metadata": {},
     "output_type": "display_data"
    }
   ],
   "source": [
    "dist = data_analysis.apply(len)\n",
    "plt.figure(figsize=(12,8))\n",
    "plt.title(\"Histogram of number of words in a question\")\n",
    "plt.xlabel('Number of words in a question')\n",
    "plt.ylabel('Frequency')\n",
    "plt.hist(dist,range=[0,200])\n",
    "plt.show()"
   ]
  },
  {
   "cell_type": "code",
   "execution_count": 554,
   "metadata": {},
   "outputs": [
    {
     "data": {
      "text/plain": [
       "(-0.5, 1299.5, 999.5, -0.5)"
      ]
     },
     "execution_count": 554,
     "metadata": {},
     "output_type": "execute_result"
    },
    {
     "data": {
      "image/png": "[encoded data removed]",
      "text/plain": [
       "<matplotlib.figure.Figure at 0x1a7463bfd0>"
      ]
     },
     "metadata": {},
     "output_type": "display_data"
    }
   ],
   "source": [
    "from wordcloud import WordCloud\n",
    "cloud = WordCloud(width=1300, height=1000).generate(\" \".join(data_analysis.astype(str)))\n",
    "plt.figure(figsize=(12, 10))\n",
    "plt.imshow(cloud)\n",
    "plt.axis('off')"
   ]
  },
  {
   "cell_type": "markdown",
   "metadata": {},
   "source": [
    "### Semantics"
   ]
  },
  {
   "cell_type": "code",
   "execution_count": 628,
   "metadata": {},
   "outputs": [
    {
     "name": "stdout",
     "output_type": "stream",
     "text": [
      "Number of questions having '?' = 99.87%\n",
      "Number of questions having '.' = 6.31%\n",
      "Number of questions having a number = 11.83%\n"
     ]
    }
   ],
   "source": [
    "print(\"Number of questions having '?' = {:.2f}%\".format(np.mean(data_analysis.apply(lambda x: '?' in x))*100))\n",
    "print(\"Number of questions having '.' = {:.2f}%\".format(np.mean(data_analysis.apply(lambda x: '.' in x))*100))\n",
    "print(\"Number of questions having a number = {:.2f}%\".format(np.mean(data_analysis.apply(lambda x: max([y.isdigit() for y in x])))*100))"
   ]
  },
  {
   "cell_type": "code",
   "execution_count": 12,
   "metadata": {},
   "outputs": [],
   "source": [
    "# data preprocessing done in python to make it easier for pyspark do work on :)\n",
    "stopwords = nltk.corpus.stopwords.words()\n",
    "import re\n",
    "def clean(col):\n",
    "    sent = re.compile('([^\\s\\w]|_)+').sub('', col).lower()\n",
    "    sent = sent.split(\" \")\n",
    "\n",
    "    for w in sent:\n",
    "        if w in stopwords:\n",
    "            sent.remove(w)\n",
    "\n",
    "    sent = \" \".join(sent)\n",
    "    return sent\n",
    "\n",
    "\n",
    "df['question1'] = df['question1'].apply(clean)\n",
    "df['question2'] = df['question2'].apply(clean)\n"
   ]
  },
  {
   "cell_type": "code",
   "execution_count": 13,
   "metadata": {},
   "outputs": [
    {
     "data": {
      "text/html": [
       "<div>\n",
       "<style>\n",
       "    .dataframe thead tr:only-child th {\n",
       "        text-align: right;\n",
       "    }\n",
       "\n",
       "    .dataframe thead th {\n",
       "        text-align: left;\n",
       "    }\n",
       "\n",
       "    .dataframe tbody tr th {\n",
       "        vertical-align: top;\n",
       "    }\n",
       "</style>\n",
       "<table border=\"1\" class=\"dataframe\">\n",
       "  <thead>\n",
       "    <tr style=\"text-align: right;\">\n",
       "      <th></th>\n",
       "      <th>id</th>\n",
       "      <th>qid1</th>\n",
       "      <th>qid2</th>\n",
       "      <th>question1</th>\n",
       "      <th>question2</th>\n",
       "      <th>is_duplicate</th>\n",
       "    </tr>\n",
       "  </thead>\n",
       "  <tbody>\n",
       "    <tr>\n",
       "      <th>0</th>\n",
       "      <td>0</td>\n",
       "      <td>1</td>\n",
       "      <td>2</td>\n",
       "      <td>is step step guide invest share market india</td>\n",
       "      <td>is step step guide invest share market</td>\n",
       "      <td>0</td>\n",
       "    </tr>\n",
       "    <tr>\n",
       "      <th>1</th>\n",
       "      <td>1</td>\n",
       "      <td>3</td>\n",
       "      <td>4</td>\n",
       "      <td>is story kohinoor kohinoor diamond</td>\n",
       "      <td>would happen indian government stole the kohin...</td>\n",
       "      <td>0</td>\n",
       "    </tr>\n",
       "    <tr>\n",
       "      <th>2</th>\n",
       "      <td>2</td>\n",
       "      <td>5</td>\n",
       "      <td>6</td>\n",
       "      <td>can increase speed my internet connection usin...</td>\n",
       "      <td>can internet speed increased hacking dns</td>\n",
       "      <td>0</td>\n",
       "    </tr>\n",
       "    <tr>\n",
       "      <th>3</th>\n",
       "      <td>3</td>\n",
       "      <td>7</td>\n",
       "      <td>8</td>\n",
       "      <td>am mentally lonely can solve</td>\n",
       "      <td>find remainder math2324math divided 2423</td>\n",
       "      <td>0</td>\n",
       "    </tr>\n",
       "  </tbody>\n",
       "</table>\n",
       "</div>"
      ],
      "text/plain": [
       "   id  qid1  qid2                                          question1  \\\n",
       "0   0     1     2       is step step guide invest share market india   \n",
       "1   1     3     4                 is story kohinoor kohinoor diamond   \n",
       "2   2     5     6  can increase speed my internet connection usin...   \n",
       "3   3     7     8                       am mentally lonely can solve   \n",
       "\n",
       "                                           question2  is_duplicate  \n",
       "0             is step step guide invest share market             0  \n",
       "1  would happen indian government stole the kohin...             0  \n",
       "2           can internet speed increased hacking dns             0  \n",
       "3           find remainder math2324math divided 2423             0  "
      ]
     },
     "execution_count": 13,
     "metadata": {},
     "output_type": "execute_result"
    }
   ],
   "source": [
    "df.head(4)"
   ]
  },
  {
   "cell_type": "code",
   "execution_count": 14,
   "metadata": {},
   "outputs": [],
   "source": [
    "# made the document file in python(using df dataframe created before) \n",
    "# ( to save time :) )\n",
    "documents = []\n",
    "\n",
    "for i in range(0,len(df)):\n",
    "    documents.append(df.iloc[i]['question1'])\n",
    "    if(df.iloc[i]['is_duplicate']==0):        # using unique questions to not make training redundant on same questions\n",
    "        documents.append(df.iloc[i]['question2'])"
   ]
  },
  {
   "cell_type": "code",
   "execution_count": 15,
   "metadata": {},
   "outputs": [],
   "source": [
    "df.drop(['is_duplicate'],axis=1,inplace=True)"
   ]
  },
  {
   "cell_type": "code",
   "execution_count": null,
   "metadata": {},
   "outputs": [],
   "source": [
    "# documents[0:2]"
   ]
  },
  {
   "cell_type": "code",
   "execution_count": 17,
   "metadata": {},
   "outputs": [
    {
     "data": {
      "text/plain": [
       "['can', 'internet', 'speed', 'increased', 'hacking', 'dns']"
      ]
     },
     "execution_count": 17,
     "metadata": {},
     "output_type": "execute_result"
    }
   ],
   "source": [
    "documents = [x.split() for x in documents]\n",
    "documents[5]"
   ]
  },
  {
   "cell_type": "code",
   "execution_count": 18,
   "metadata": {},
   "outputs": [],
   "source": [
    "# can use this to read the training file\n",
    "# train = sqlContext.read.csv('train.csv',header = True,inferSchema = True)\n",
    "sc = SparkContext('local')\n",
    "sqlContext = SQLContext(sc)\n",
    "train = sqlContext.createDataFrame(df)"
   ]
  },
  {
   "cell_type": "code",
   "execution_count": 19,
   "metadata": {},
   "outputs": [
    {
     "name": "stdout",
     "output_type": "stream",
     "text": [
      "+---+----+----+--------------------+--------------------+\n",
      "| id|qid1|qid2|           question1|           question2|\n",
      "+---+----+----+--------------------+--------------------+\n",
      "|  0|   1|   2|is step step guid...|is step step guid...|\n",
      "|  1|   3|   4|is story kohinoor...|would happen indi...|\n",
      "|  2|   5|   6|can increase spee...|can internet spee...|\n",
      "|  3|   7|   8|am mentally lonel...|find remainder ma...|\n",
      "+---+----+----+--------------------+--------------------+\n",
      "only showing top 4 rows\n",
      "\n"
     ]
    }
   ],
   "source": [
    "train.show(4)"
   ]
  },
  {
   "cell_type": "code",
   "execution_count": 20,
   "metadata": {},
   "outputs": [
    {
     "name": "stdout",
     "output_type": "stream",
     "text": [
      "+---+----+----+---------+---------+\n",
      "| id|qid1|qid2|question1|question2|\n",
      "+---+----+----+---------+---------+\n",
      "|  0|   0|   0|        0|        0|\n",
      "+---+----+----+---------+---------+\n",
      "\n"
     ]
    }
   ],
   "source": [
    "from pyspark.sql.functions import isnan,count,when\n",
    "train.select([count(when(isnan(c), c)).alias(c) for c in train.columns]).show()"
   ]
  },
  {
   "cell_type": "code",
   "execution_count": null,
   "metadata": {},
   "outputs": [],
   "source": [
    "# We can do this step but this takes a lot of time (using pyspark syntax)\n",
    "\"\"\"\n",
    "documents = []\n",
    "\n",
    "for i in range(0,train.select('question1').count()):\n",
    "    documents.append(train.collect()[i]['question1'])\n",
    "    if(train.collect()[i]['is_duplicate']=='0'):\n",
    "        documents.append(train.collect()[i]['question2'])\n",
    "\"\"\""
   ]
  },
  {
   "cell_type": "code",
   "execution_count": 20,
   "metadata": {},
   "outputs": [],
   "source": [
    "\"\"\"\n",
    "from pyspark.sql import Row\n",
    "rdd1 = sqlContext.parallelize(documents)\n",
    "row_rdd = rdd1.map(lambda x: Row(x))\n",
    "\"\"\"\n",
    "\n",
    "pd.DataFrame({'documents':documents})\n",
    "df2=sqlContext.createDataFrame(pd.DataFrame({'documents':documents}))"
   ]
  },
  {
   "cell_type": "code",
   "execution_count": 21,
   "metadata": {},
   "outputs": [
    {
     "name": "stdout",
     "output_type": "stream",
     "text": [
      "+--------------------+\n",
      "|           documents|\n",
      "+--------------------+\n",
      "|[is, step, step, ...|\n",
      "|[is, step, step, ...|\n",
      "|[is, story, kohin...|\n",
      "|[would, happen, i...|\n",
      "|[can, increase, s...|\n",
      "+--------------------+\n",
      "only showing top 5 rows\n",
      "\n"
     ]
    }
   ],
   "source": [
    "df2.show(5)"
   ]
  },
  {
   "cell_type": "markdown",
   "metadata": {},
   "source": [
    "### Lets use Word2Vec !!"
   ]
  },
  {
   "cell_type": "code",
   "execution_count": 22,
   "metadata": {},
   "outputs": [],
   "source": [
    "# Now lets apply Word2Vec\n",
    "word2Vec = Word2Vec(vectorSize=100,windowSize=10, minCount=200, inputCol=\"documents\", outputCol=\"result\")\n",
    "model = word2Vec.fit(df2)"
   ]
  },
  {
   "cell_type": "code",
   "execution_count": 23,
   "metadata": {},
   "outputs": [],
   "source": [
    "result = model.transform(df2)"
   ]
  },
  {
   "cell_type": "code",
   "execution_count": 26,
   "metadata": {},
   "outputs": [
    {
     "name": "stderr",
     "output_type": "stream",
     "text": [
      "Exception ignored in: <object repr() failed>\n",
      "Traceback (most recent call last):\n",
      "  File \"/anaconda3/lib/python3.6/site-packages/pyspark/ml/wrapper.py\", line 40, in __del__\n",
      "    if SparkContext._active_spark_context and self._java_obj is not None:\n",
      "AttributeError: 'Word2Vec' object has no attribute '_java_obj'\n",
      "Exception ignored in: <object repr() failed>\n",
      "Traceback (most recent call last):\n",
      "  File \"/anaconda3/lib/python3.6/site-packages/pyspark/ml/wrapper.py\", line 40, in __del__\n",
      "    "
     ]
    },
    {
     "name": "stdout",
     "output_type": "stream",
     "text": [
      "Sentence: [is, step, step, guide, invest, share, market, india] => \n",
      "Vector: [0.0818742960691452,0.1352273221127689,-0.06247943494236097,-0.10914855170994997,-0.19595806277357042,-0.19648136314935982,-0.10534135671332479,0.35443341435166076,0.12426456203684211,0.07455665752058849,-0.02792829438112676,0.16796494089066982,0.2093145006801933,0.039547330365167,0.19630261091515422,0.12626834865659475,-0.004686599597334862,-0.011669308529235423,-0.167632139287889,-0.04216541023924947,0.15394546458264813,-0.07585535943508148,-0.022493957309052348,0.0891863374854438,-0.09348013438284397,0.09886524238390848,-0.09733884315937757,-0.3494789395481348,0.1382706486620009,0.13007311522960663,-0.016432275297120214,-0.05879818648099899,0.10043670138111338,-0.03908898262307048,-0.040998848620802164,0.051089386688545346,-0.04075429419754073,-0.039847508538514376,0.13410601659779786,-0.09756129141896963,0.017554214224219322,-0.09717499790713191,-0.10871897265315056,-0.06651860103011131,0.009830094873905182,-0.12517384067177773,0.08597551833372563,-0.0708354040980339,-0.036159688606858253,0.23676703521050513,0.03809489286504686,-0.06767000211402774,0.18810617364943027,0.04110631160438061,-0.2589869014918804,-0.019085676409304142,0.03125430457293987,-0.09794878540560603,0.06736715463921428,-0.1702833492308855,-0.0020918394438922405,0.06288546789437532,0.2677227193489671,-0.348203667672351,-0.08292462956160307,-0.19050835794769228,-0.006542259361594915,0.2677703509107232,-0.0960806761868298,0.08501499705016613,-0.21289406437426805,-0.12631284445524216,-0.18204959109425545,-0.21439007204025984,0.052227078238502145,-0.20022334880195558,0.061703042418230325,0.15548606729134917,0.026459958753548563,-0.04915240127593279,-0.06089052790775895,-0.23528498224914074,0.08998355711810291,-0.18662253947695717,0.09256764315068722,-0.07292021159082651,-0.06141416262835264,-0.08657761570066214,0.14738559257239103,-0.06985444424208254,0.22887981310486794,-0.15855229925364256,-0.03344300715252757,-0.02653784421272576,0.20247018244117498,0.08734629140235484,0.17863528849557042,0.00258101848885417,0.02602393919005408,0.058453201316297054]\n",
      "\n",
      "Sentence: [is, step, step, guide, invest, share, market] => \n",
      "Vector: [0.09756376594305038,0.12459486669727733,-0.07811195928869502,-0.14928663947752543,-0.2129253561475447,-0.1883546467870474,-0.1393838594002383,0.3595843196048268,0.1608237661421299,0.04490632823269282,-0.007422761991620064,0.2032479356442179,0.241675145391907,0.08508607600482979,0.19784923057471002,0.15451085780348095,0.026004422988210405,-0.06713908977274384,-0.17802672939641134,-0.006273891776800156,0.17172252380156092,-0.053390326244490485,-0.028390997222491672,0.09770153669108236,-0.09926889996443475,0.10450822347775102,-0.08335471046822411,-0.39211683188165936,0.17232859932950564,0.16320958733558655,-0.04390520629073892,-0.10842008250100271,0.10624951011102114,-0.029555461768593104,-0.05349529268486159,0.07676761411130428,-0.015566964434193713,-0.07196002826094627,0.14803965961410928,-0.09091571292706897,0.024487656142030443,-0.06300927006772586,-0.1774589589663914,-0.04498144558497837,-0.010957681706973484,-0.10333935277802603,0.1232595740418349,-0.06612847638981682,-0.02399724828345435,0.273695313504764,-0.010333576638783726,-0.08067140302487781,0.1782223688704627,0.03281909227371216,-0.2497620369706835,-0.01090781284230096,0.01984434574842453,-0.09519558772444725,0.04991081303783825,-0.17269807628222875,-0.021872845611401966,0.05564303802592414,0.2582316835011755,-0.3957751430571079,-0.07976155089480536,-0.18443050953958715,0.010245733495269502,0.2938015716416495,-0.04120107261197908,0.07223749586514064,-0.21146767373595918,-0.1572779853429113,-0.22484450255121502,-0.21829035133123398,0.05700039224965232,-0.2551264909229108,0.034845826149519,0.18306250018732886,0.01756660041532346,-0.0840873856629644,-0.05557732869471822,-0.2408322351319449,0.1348086390644312,-0.2128936190690313,0.08955461106130054,-0.06259339089904513,-0.05050082185438701,-0.13353912638766424,0.1384366846510342,-0.04082080123147794,0.23809156886168886,-0.11337447060006005,-0.05441108824951308,-0.027818866074085236,0.18656974498714718,0.10763193533888885,0.20688163595540182,-0.015354625348533902,0.07446703307713115,0.07986910534756524]\n",
      "\n",
      "Sentence: [is, story, kohinoor, kohinoor, diamond] => \n",
      "Vector: [0.056736855208873754,0.019540347903966904,-0.07073322525247931,0.020108393579721454,0.04929514825344086,-0.13030049204826355,0.0458024337887764,-0.02941645858809352,0.06692120134830475,-0.019265588745474817,0.027310416102409363,-0.060032182931900026,0.034833341091871264,0.02539464831352234,-0.08506983891129494,-0.023427967727184296,0.03376547396183014,-0.01259149331599474,-0.1491429924964905,-0.04406237378716469,0.0966399610042572,-0.008033347129821778,0.01986655592918396,0.04074452621862293,-0.06756211519241333,0.056092054676264526,0.0014054641127586366,-0.05808386504650116,0.1151466503739357,0.09174046069383622,-0.0704556055366993,0.021713068708777428,-0.01338692456483841,0.0009731709957122803,0.04045076593756676,-0.05668286979198456,0.03886393010616303,-0.01786950696259737,0.016151148080825805,-0.0492528647184372,0.020407897233963013,-0.056564816087484364,0.016587388515472413,0.12402591109275818,-0.006961101293563843,0.04826359152793885,-0.06760267186909914,-0.05960587859153748,-0.04924715012311936,0.08069855868816377,-0.0013984749093651772,0.04003364741802216,-0.10265691578388214,-0.08400896191596985,-0.049929638206958775,0.06068396717309952,-0.025098206102848054,0.032952123880386354,-0.017742492258548737,-0.031370654702186584,-0.048210741579532625,-0.03560532629489899,0.0044924944639205934,0.029704257100820544,0.01705635040998459,0.08129816055297852,-0.11421847343444824,0.024688714742660524,-0.028646785765886307,-0.10522348582744599,-0.028178301081061365,-0.1344847857952118,0.11813287138938905,0.027003374695777894,0.0959862232208252,-0.07910044193267823,0.03270726799964905,0.005038601160049439,0.01049046814441681,-0.0406401738524437,0.05011324286460877,0.04230640381574631,0.11732442528009415,-0.03996306508779526,-0.037818689644336705,0.013662107288837433,-0.011525992676615715,-0.03227676097303629,-0.01936519518494606,0.13314522802829742,0.09721360802650453,0.013337662816047669,-0.006963615864515305,-0.009632652252912523,-0.08715629130601883,0.0466606080532074,0.0978906273841858,0.040095800161361696,-0.006451718509197235,0.11431633234024048]\n",
      "\n"
     ]
    },
    {
     "name": "stderr",
     "output_type": "stream",
     "text": [
      "if SparkContext._active_spark_context and self._java_obj is not None:\n",
      "AttributeError: 'Word2Vec' object has no attribute '_java_obj'\n"
     ]
    }
   ],
   "source": [
    "for row in result.collect()[0:3]:\n",
    "    sentence, vector = row\n",
    "    print(\"Sentence: [%s] => \\nVector: %s\\n\" % (\", \".join(sentence), str(vector)))"
   ]
  },
  {
   "cell_type": "code",
   "execution_count": 24,
   "metadata": {},
   "outputs": [
    {
     "name": "stdout",
     "output_type": "stream",
     "text": [
      "+--------------------+--------------------+\n",
      "|           documents|              result|\n",
      "+--------------------+--------------------+\n",
      "|[is, step, step, ...|[-0.0258020996116...|\n",
      "|[is, step, step, ...|[-0.0443133823573...|\n",
      "|[is, story, kohin...|[-0.0244293399155...|\n",
      "|[would, happen, i...|[-0.0394877173006...|\n",
      "|[can, increase, s...|[-0.1989977355115...|\n",
      "|[can, internet, s...|[-0.1959825431307...|\n",
      "+--------------------+--------------------+\n",
      "only showing top 6 rows\n",
      "\n"
     ]
    }
   ],
   "source": [
    "result.show(6)"
   ]
  },
  {
   "cell_type": "code",
   "execution_count": 26,
   "metadata": {},
   "outputs": [
    {
     "name": "stdout",
     "output_type": "stream",
     "text": [
      "+-------------+--------------------+\n",
      "|         word|              vector|\n",
      "+-------------+--------------------+\n",
      "|     incident|[0.15706565976142...|\n",
      "|      serious|[0.02947017177939...|\n",
      "|     embedded|[-0.0043854531832...|\n",
      "|      speaker|[-0.1458204835653...|\n",
      "|         rate|[0.32507535815238...|\n",
      "|         2014|[0.21890351176261...|\n",
      "|           45|[-0.1518665105104...|\n",
      "|         snow|[0.06463630497455...|\n",
      "|      michael|[0.02391052804887...|\n",
      "|        looks|[-0.0521396286785...|\n",
      "|          4th|[-0.5105449557304...|\n",
      "|   california|[-0.0821165964007...|\n",
      "|     accident|[0.03092468343675...|\n",
      "|      muscles|[-0.0798977687954...|\n",
      "|   physically|[-0.2371650636196...|\n",
      "|conversations|[0.19810788333415...|\n",
      "|        ideas|[-0.1504241228103...|\n",
      "|       liquid|[0.08924348652362...|\n",
      "|      joining|[-0.2891990244388...|\n",
      "| particularly|[-0.1773614585399...|\n",
      "|         used|[-0.1108705326914...|\n",
      "|          eye|[0.06833478808403...|\n",
      "|      allowed|[-0.0021459464915...|\n",
      "|    reference|[-0.0927777811884...|\n",
      "|       widely|[-0.1644726395606...|\n",
      "+-------------+--------------------+\n",
      "only showing top 25 rows\n",
      "\n"
     ]
    }
   ],
   "source": [
    "model.getVectors().show(25)"
   ]
  },
  {
   "cell_type": "code",
   "execution_count": 29,
   "metadata": {},
   "outputs": [],
   "source": [
    "\"\"\"\n",
    "filename = 'stored_model.wv' # Can be any arbitrary filename\n",
    "model.save(filename) \n",
    "\"\"\""
   ]
  },
  {
   "cell_type": "code",
   "execution_count": 52,
   "metadata": {},
   "outputs": [
    {
     "name": "stdout",
     "output_type": "stream",
     "text": [
      "Word = printer \n",
      "Most Similar Word = hp\n"
     ]
    }
   ],
   "source": [
    "ind = np.random.randint(0,model.getVectors().count()+1)\n",
    "print('Word = {} '.format(model.getVectors().collect()[ind]['word']))\n",
    "max_test = -100000000000000\n",
    "\n",
    "for i in range(0,len(model.getVectors().collect())):\n",
    "    if(i!=ind):\n",
    "        cosine_sim = np.dot(model.getVectors().collect()[i]['vector'],model.getVectors().collect()[ind]['vector'])/((norm(model.getVectors().collect()[i]['vector']))*(norm(model.getVectors().collect()[ind]['vector'])))        \n",
    "        if(cosine_sim>max_test):\n",
    "            max_test = cosine_sim\n",
    "            sim_word_test = model.getVectors().collect()[i]['word']\n",
    "            \n",
    "print('Most Similar Word = {}'.format(sim_word_test))    "
   ]
  },
  {
   "cell_type": "code",
   "execution_count": 41,
   "metadata": {},
   "outputs": [
    {
     "name": "stdout",
     "output_type": "stream",
     "text": [
      "+---------+------------------+\n",
      "|     word|        similarity|\n",
      "+---------+------------------+\n",
      "|   moment|0.6596916317939758|\n",
      "|  moments|0.5998780131340027|\n",
      "|childhood|0.5727454423904419|\n",
      "+---------+------------------+\n",
      "\n"
     ]
    }
   ],
   "source": [
    "res = model.findSynonyms('incident',3) # return 3 \"synonyms\"\n",
    "res.show(3)"
   ]
  },
  {
   "cell_type": "code",
   "execution_count": 45,
   "metadata": {},
   "outputs": [
    {
     "name": "stdout",
     "output_type": "stream",
     "text": [
      "+----------+------------------+\n",
      "|      word|        similarity|\n",
      "+----------+------------------+\n",
      "|attractive|0.5898951888084412|\n",
      "|     funny|0.5681017637252808|\n",
      "|    beauty|0.5634511709213257|\n",
      "|underrated|0.5537212491035461|\n",
      "|   awesome|0.5526648163795471|\n",
      "+----------+------------------+\n",
      "\n"
     ]
    }
   ],
   "source": [
    "res = model.findSynonyms('beautiful',5) # return 5 \"synonyms\"\n",
    "res.show(5)"
   ]
  },
  {
   "cell_type": "code",
   "execution_count": 46,
   "metadata": {},
   "outputs": [
    {
     "name": "stdout",
     "output_type": "stream",
     "text": [
      "+-------+------------------+\n",
      "|   word|        similarity|\n",
      "+-------+------------------+\n",
      "|   cars|0.7503092288970947|\n",
      "|  wheel|0.6885342597961426|\n",
      "|   ride|0.6587249040603638|\n",
      "|   bike| 0.658012330532074|\n",
      "|vehicle| 0.654242753982544|\n",
      "+-------+------------------+\n",
      "\n"
     ]
    }
   ],
   "source": [
    "res = model.findSynonyms('car',5) # return 5 \"synonyms\"\n",
    "res.show(5)"
   ]
  },
  {
   "cell_type": "code",
   "execution_count": null,
   "metadata": {},
   "outputs": [],
   "source": [
    "# So you can actually tag the questions with a word and find similar questions by finding the questions which have\n",
    "# the synonymous tags"
   ]
  },
  {
   "cell_type": "code",
   "execution_count": 143,
   "metadata": {},
   "outputs": [
    {
     "name": "stdout",
     "output_type": "stream",
     "text": [
      "+--------------------+\n",
      "|              vector|\n",
      "+--------------------+\n",
      "|[0.16988040506839...|\n",
      "|[-0.1837505251169...|\n",
      "+--------------------+\n",
      "only showing top 2 rows\n",
      "\n"
     ]
    },
    {
     "data": {
      "text/plain": [
       "NoneType"
      ]
     },
     "execution_count": 143,
     "metadata": {},
     "output_type": "execute_result"
    }
   ],
   "source": [
    "type(model.getVectors().select('vector'))"
   ]
  },
  {
   "cell_type": "code",
   "execution_count": 361,
   "metadata": {},
   "outputs": [
    {
     "name": "stdout",
     "output_type": "stream",
     "text": [
      "[-0.07466133683919907,0.2635296583175659,0.03382672742009163,0.2153698205947876,0.26321572065353394,0.19767826795578003,0.024400832131505013,0.10512962937355042,-0.07421072572469711,0.0075380741618573666,0.34349945187568665,-0.36908528208732605,-0.27458861470222473,-0.05353272706270218,0.4964402914047241,0.010587530210614204,-0.16596823930740356,-0.23092319071292877,0.06271348148584366,-0.1126525029540062,-0.21491681039333344,0.08903124183416367,0.02798421122133732,-0.03838581591844559,0.045961763709783554,-0.2182745784521103,-0.12445288151502609,-0.3983164131641388,0.05603325366973877,-0.29980817437171936,0.004810095764696598,-0.11516553908586502,-0.17039737105369568,0.1774015575647354,0.012232450768351555,0.4874473810195923,0.06703566014766693,0.28657349944114685,0.5582836270332336,-0.13123057782649994,-0.34068942070007324,-0.13045968115329742,-0.1780751794576645,-0.040764763951301575,0.495950847864151,0.04393470659852028,-0.13326537609100342,-0.261738121509552,-0.39681142568588257,0.12589968740940094,-0.17206084728240967,-0.001695960876531899,-0.16348806023597717,-0.172096848487854,0.2335243672132492,-0.0843443050980568,0.2434368133544922,-0.033983562141656876,0.26221466064453125,-0.36393824219703674,0.4633180499076843,0.04464700445532799,-0.24347072839736938,0.2739693820476532,0.49463051557540894,-0.3997391164302826,-0.01052616722881794,0.19073763489723206,0.42001327872276306,0.12334028631448746,-0.4404665231704712,0.18565456569194794,-0.2977607846260071,-0.19798146188259125,0.39661574363708496,-0.36149120330810547,-0.2742150127887726,0.4724181294441223,-0.3978215157985687,-0.0330815427005291,-0.45093104243278503,0.21031855046749115,0.0663648247718811,-0.1273074597120285,0.23441307246685028,-0.48055580258369446,-0.3024572432041168,0.25884997844696045,0.20681771636009216,-0.20081505179405212,-0.017281025648117065,0.04755428433418274,0.008608594536781311,-0.3638182282447815,-0.2220231145620346,0.083513043820858,-0.04136369377374649,0.5736882090568542,0.15353970229625702,0.36294040083885193]\n"
     ]
    }
   ],
   "source": [
    "# .transform method\n",
    "p = [['snow']]\n",
    "print(model.transform(sqlContext.createDataFrame(pd.DataFrame([res_word],columns=['documents']))).collect()[0][1])"
   ]
  },
  {
   "cell_type": "markdown",
   "metadata": {},
   "source": [
    "### Using PCA to decrease the dimensionality of vectors"
   ]
  },
  {
   "cell_type": "code",
   "execution_count": 54,
   "metadata": {},
   "outputs": [],
   "source": [
    "from pyspark.ml.feature import PCA\n",
    "pca = PCA(k=3, inputCol=\"vector\", outputCol=\"pcaFeatures\")\n",
    "model_pca = pca.fit(model.getVectors().select('vector'))\n",
    "\n",
    "result_pca = model_pca.transform(model.getVectors().select('vector')).select(\"pcaFeatures\")"
   ]
  },
  {
   "cell_type": "code",
   "execution_count": 139,
   "metadata": {},
   "outputs": [
    {
     "name": "stdout",
     "output_type": "stream",
     "text": [
      "Word = incident and its representation = [0.15706565976142883,0.06711146235466003,-0.08294181525707245,-0.3025716245174408,-0.28888267278671265,-0.616371214389801,-0.30569466948509216,-0.024195021018385887,-0.11543864011764526,-0.06305581331253052,0.25957098603248596,-0.10166414082050323,0.13632053136825562,0.030745381489396095,0.0792156234383583,0.5676795244216919,0.08982932567596436,-0.06298629939556122,-0.3663630187511444,-0.20902207493782043,-0.17246180772781372,0.29024043679237366,0.1455729603767395,-0.48097142577171326,-0.1816185563802719,0.03555629774928093,-0.18250221014022827,0.07684614509344101,0.07048959285020828,-0.0719909518957138,-0.2356393188238144,-0.44632744789123535,0.020875204354524612,0.17501342296600342,0.4831019937992096,-0.22527357935905457,-0.3422291874885559,-0.09828032553195953,0.2611093819141388,0.010137075558304787,-0.11620756983757019,-0.014132685959339142,-0.017760325223207474,0.11344199627637863,0.1371573507785797,-0.32587286829948425,0.3763252794742584,0.5244693160057068,0.3212750554084778,-0.10587139427661896,0.07107733190059662,-0.17041322588920593,-0.27495715022087097,0.012914640828967094,0.30650538206100464,0.1509355902671814,-0.2370557337999344,0.03009583242237568,0.0023966378066688776,0.17894414067268372,-0.4510911703109741,0.0018660633359104395,0.04919935017824173,-0.1796177178621292,-0.0840921401977539,-0.12427713721990585,0.02034963294863701,-0.3964037597179413,-0.09378756582736969,-0.01275875885039568,-0.03750620409846306,0.10750831663608551,-0.2803174555301666,0.14276160299777985,-0.1561713069677353,-0.22551226615905762,-0.20527324080467224,-0.07285653054714203,-0.2403394877910614,0.16581407189369202,0.15231916308403015,0.18924736976623535,-0.11313699185848236,-0.016882894560694695,0.09480397403240204,0.10643219202756882,-0.08260707557201385,-0.09781509637832642,0.16527652740478516,0.024799954146146774,-0.25809144973754883,0.3052951991558075,-0.39440250396728516,0.04411798343062401,0.13215982913970947,-0.26995617151260376,0.09567604213953018,0.25726285576820374,-0.26327913999557495,-0.1699831634759903]\n",
      "\n",
      "Word = incident and its PCA representation = [0.659770885682689,0.12830893928945666,-0.30970282221223]\n"
     ]
    }
   ],
   "source": [
    "print(\"Word = {0} and its representation = {1}\".format(model.getVectors().collect()[0][0],model.getVectors().collect()[0]['vector']))\n",
    "print()\n",
    "print(\"Word = {0} and its PCA representation = {1}\".format(model.getVectors().collect()[0][0],result_pca.collect()[0]['pcaFeatures']))"
   ]
  },
  {
   "cell_type": "code",
   "execution_count": 55,
   "metadata": {},
   "outputs": [
    {
     "name": "stdout",
     "output_type": "stream",
     "text": [
      "+--------------------+\n",
      "|         pcaFeatures|\n",
      "+--------------------+\n",
      "|[0.65977088568268...|\n",
      "+--------------------+\n",
      "only showing top 1 row\n",
      "\n"
     ]
    }
   ],
   "source": [
    "result_pca.show(1)"
   ]
  },
  {
   "cell_type": "code",
   "execution_count": 160,
   "metadata": {},
   "outputs": [
    {
     "data": {
      "text/plain": [
       "DenseVector([0.6446, 0.1481, 0.2543])"
      ]
     },
     "execution_count": 160,
     "metadata": {},
     "output_type": "execute_result"
    }
   ],
   "source": [
    "result_pca.collect()[0][0]"
   ]
  },
  {
   "cell_type": "code",
   "execution_count": 201,
   "metadata": {},
   "outputs": [
    {
     "data": {
      "text/plain": [
       "3074"
      ]
     },
     "execution_count": 201,
     "metadata": {},
     "output_type": "execute_result"
    }
   ],
   "source": [
    "model.getVectors().count()"
   ]
  },
  {
   "cell_type": "code",
   "execution_count": 202,
   "metadata": {},
   "outputs": [
    {
     "data": {
      "text/plain": [
       "3074"
      ]
     },
     "execution_count": 202,
     "metadata": {},
     "output_type": "execute_result"
    }
   ],
   "source": [
    "result_pca.count()"
   ]
  },
  {
   "cell_type": "code",
   "execution_count": 229,
   "metadata": {},
   "outputs": [],
   "source": [
    "from sklearn.manifold import TSNE"
   ]
  },
  {
   "cell_type": "code",
   "execution_count": 105,
   "metadata": {},
   "outputs": [
    {
     "name": "stdout",
     "output_type": "stream",
     "text": [
      "+----------+------------------+\n",
      "|      word|        similarity|\n",
      "+----------+------------------+\n",
      "|    mobile|0.7708603739738464|\n",
      "|    phones|0.7286869287490845|\n",
      "|    device|0.6977419257164001|\n",
      "|smartphone|0.6695911288261414|\n",
      "| antivirus|0.6474941968917847|\n",
      "+----------+------------------+\n",
      "\n"
     ]
    }
   ],
   "source": [
    "res = model.findSynonyms('phone',5) # return 5 \"synonyms\"\n",
    "res.show(5)"
   ]
  },
  {
   "cell_type": "code",
   "execution_count": 106,
   "metadata": {},
   "outputs": [
    {
     "data": {
      "text/plain": [
       "5"
      ]
     },
     "execution_count": 106,
     "metadata": {},
     "output_type": "execute_result"
    }
   ],
   "source": [
    "res.count()"
   ]
  },
  {
   "cell_type": "code",
   "execution_count": 107,
   "metadata": {},
   "outputs": [],
   "source": [
    "pca2 = PCA(k=2, inputCol=\"vector\", outputCol=\"pcaFeatures2D\")\n",
    "model_pca2 = pca2.fit(model.getVectors().select('vector'))\n",
    "\n",
    "result_pca2 = model_pca2.transform(model.getVectors().select('vector')).select(\"pcaFeatures2D\")"
   ]
  },
  {
   "cell_type": "code",
   "execution_count": 136,
   "metadata": {},
   "outputs": [
    {
     "name": "stdout",
     "output_type": "stream",
     "text": [
      "+--------------------+\n",
      "|       pcaFeatures2D|\n",
      "+--------------------+\n",
      "|[0.65977088568268...|\n",
      "|[0.53021994564132...|\n",
      "|[-1.1410495880768...|\n",
      "|[-0.0649132110454...|\n",
      "|[-0.3632829014518...|\n",
      "+--------------------+\n",
      "only showing top 5 rows\n",
      "\n"
     ]
    }
   ],
   "source": [
    "result_pca2.show(5)"
   ]
  },
  {
   "cell_type": "code",
   "execution_count": 108,
   "metadata": {},
   "outputs": [],
   "source": [
    "arr = []\n",
    "word_labels = []\n",
    "close_word = 'phone'\n",
    "for j in range(0,model.getVectors().count()):\n",
    "    if((model.getVectors().collect()[j][0])==close_word):\n",
    "        word_labels.append(np.asarray(model.getVectors().collect()[j][0]))\n",
    "        arr.append(np.asarray(result_pca2.collect()[j][0]))\n",
    "        break"
   ]
  },
  {
   "cell_type": "code",
   "execution_count": 109,
   "metadata": {},
   "outputs": [
    {
     "data": {
      "text/plain": [
       "\"\\nfor i in range(0,res.count()):\\n    res_word = [[res.collect()[i][0]]]\\n    print(model.transform(sqlContext.createDataFrame(pd.DataFrame([res_word],columns=['documents']))).collect()[0][1])\\n    word_labels.append(np.asarray(res_word))\\n    arr.append(np.asarray(model.transform(sqlContext.createDataFrame(pd.DataFrame([res_word],columns=['documents']))).collect()[0][1]))\\n \\n\""
      ]
     },
     "execution_count": 109,
     "metadata": {},
     "output_type": "execute_result"
    }
   ],
   "source": [
    "for i in range(0,res.count()):\n",
    "    close_word = res.collect()[i][0]\n",
    "    for j in range(0,model.getVectors().count()):\n",
    "        if((model.getVectors().collect()[j][0])==close_word):\n",
    "            word_labels.append(np.asarray(model.getVectors().collect()[j][0]))\n",
    "            arr.append(np.asarray(result_pca2.collect()[j][0]))\n",
    "            break\n",
    "            \n",
    "            \n",
    "# or you can also use .transform method\n",
    "\"\"\"\n",
    "for i in range(0,res.count()):\n",
    "    res_word = [[res.collect()[i][0]]]\n",
    "    print(model.transform(sqlContext.createDataFrame(pd.DataFrame([res_word],columns=['documents']))).collect()[0][1])\n",
    "    word_labels.append(np.asarray(res_word))\n",
    "    arr.append(np.asarray(model.transform(sqlContext.createDataFrame(pd.DataFrame([res_word],columns=['documents']))).collect()[0][1]))\n",
    " \n",
    "\"\"\"                "
   ]
  },
  {
   "cell_type": "code",
   "execution_count": 92,
   "metadata": {},
   "outputs": [
    {
     "data": {
      "text/plain": [
       "'\\ntsne = TSNE(n_components=2, random_state=0)\\nnp.set_printoptions(suppress=True)\\nY = tsne.fit_transform(arr)\\n'"
      ]
     },
     "execution_count": 92,
     "metadata": {},
     "output_type": "execute_result"
    }
   ],
   "source": [
    "\"\"\"\n",
    "tsne = TSNE(n_components=2, random_state=0)\n",
    "np.set_printoptions(suppress=True)\n",
    "Y = tsne.fit_transform(arr)\n",
    "\"\"\""
   ]
  },
  {
   "cell_type": "code",
   "execution_count": 116,
   "metadata": {},
   "outputs": [],
   "source": [
    "xcoordinate = []\n",
    "ycoordinate = []\n",
    "for i in range(0,len(arr)):\n",
    "    xcoordinate.append(arr[i][0])\n",
    "    ycoordinate.append(arr[i][1])    "
   ]
  },
  {
   "cell_type": "code",
   "execution_count": 118,
   "metadata": {},
   "outputs": [
    {
     "data": {
      "text/plain": [
       "<matplotlib.collections.PathCollection at 0x10b6cdf98>"
      ]
     },
     "execution_count": 118,
     "metadata": {},
     "output_type": "execute_result"
    },
    {
     "data": {
      "image/png": "[encoded data removed]",
      "text/plain": [
       "<matplotlib.figure.Figure at 0x1a11b7b4a8>"
      ]
     },
     "metadata": {},
     "output_type": "display_data"
    }
   ],
   "source": [
    "import matplotlib.pyplot as plt\n",
    "%matplotlib inline \n",
    "\"\"\"\n",
    "x_coords = Y[:, 0]\n",
    "y_coords = Y[:, 1]\n",
    "plt.scatter(x_coords, y_coords)\n",
    "\"\"\"\n",
    "# display scatter plot\n",
    "plt.scatter(xcoordinate, ycoordinate)\n"
   ]
  },
  {
   "cell_type": "code",
   "execution_count": 125,
   "metadata": {},
   "outputs": [],
   "source": [
    "xcoordinate = np.asarray(xcoordinate)"
   ]
  },
  {
   "cell_type": "code",
   "execution_count": 126,
   "metadata": {},
   "outputs": [],
   "source": [
    "ycoordinate = np.asarray(ycoordinate)"
   ]
  },
  {
   "cell_type": "code",
   "execution_count": 131,
   "metadata": {},
   "outputs": [
    {
     "data": {
      "image/png": "[encoded data removed]",
      "text/plain": [
       "<matplotlib.figure.Figure at 0x1a1a84fd68>"
      ]
     },
     "metadata": {},
     "output_type": "display_data"
    }
   ],
   "source": [
    "\"\"\"\n",
    "for label, x, y in zip(word_labels, x_coords, y_coords):\n",
    "    plt.annotate(label, xy=(x, y), xytext=(0, 0), textcoords='offset points')\n",
    "    plt.scatter(x, y)\n",
    "\n",
    "plt.xlim(x_coords.min()+0.005, x_coords.max()+0.005)\n",
    "plt.ylim(y_coords.min()+0.005, y_coords.max()+0.005)\n",
    "plt.show()\n",
    "\"\"\"\n",
    "\n",
    "for label, x, y in zip(word_labels, xcoordinate, ycoordinate):\n",
    "    plt.annotate(label, xy=(x, y), xytext=(0, 0), textcoords='offset points')\n",
    "    plt.scatter(x, y)\n",
    "\n",
    "plt.xlim(xcoordinate.min()+0.007, xcoordinate.max()+0.005)\n",
    "plt.ylim(ycoordinate.min()-0.005, ycoordinate.max()+0.005)\n",
    "plt.show()\n",
    "\n"
   ]
  },
  {
   "cell_type": "markdown",
   "metadata": {},
   "source": [
    "### Getting some Analogies "
   ]
  },
  {
   "cell_type": "code",
   "execution_count": 397,
   "metadata": {},
   "outputs": [],
   "source": [
    "# do we see some relation between the maths of the word vectors ??\n",
    "p = [['mobile']]\n",
    "q = [['phone']]\n",
    "r = [['student']]"
   ]
  },
  {
   "cell_type": "code",
   "execution_count": 398,
   "metadata": {},
   "outputs": [],
   "source": [
    "# qry = wordvector(q) - wordvector(p) - wordvector(r)\n",
    "qry = model.transform(sqlContext.createDataFrame(pd.DataFrame([q],columns=['documents']))).collect()[0][1] - model.transform(sqlContext.createDataFrame(pd.DataFrame([p],columns=['documents']))).collect()[0][1] - model.transform(sqlContext.createDataFrame(pd.DataFrame([r],columns=['documents']))).collect()[0][1]"
   ]
  },
  {
   "cell_type": "code",
   "execution_count": 415,
   "metadata": {},
   "outputs": [
    {
     "name": "stdout",
     "output_type": "stream",
     "text": [
      "Analogies = ['accidentally', 'lying', 'dead', 'died']\n"
     ]
    }
   ],
   "source": [
    "analogy_result = model.findSynonyms(qry,num=5)\n",
    "word_list = []\n",
    "for i in range(0,analogy_result.count()):\n",
    "    word_list.append(analogy_result.collect()[i][0])\n",
    "\n",
    "word_list_copy = word_list.copy()    \n",
    "for i in range(0,len(word_list_copy)):\n",
    "    if word_list_copy[i]==p[0][0] or word_list_copy[i]==q[0][0] or word_list_copy[i]==r[0][0]:\n",
    "        word_list.remove(word_list[i])\n",
    "\n",
    "print('Analogies =',word_list)"
   ]
  },
  {
   "cell_type": "code",
   "execution_count": null,
   "metadata": {},
   "outputs": [],
   "source": [
    "# Probably some relation with students meeting with accident using phone while driving\n",
    "# accidently could refer to accidently dropping the phone"
   ]
  },
  {
   "cell_type": "code",
   "execution_count": 457,
   "metadata": {},
   "outputs": [],
   "source": [
    "\"\"\"\n",
    "#from numpy.linalg import norm\n",
    "#norm(result_pca.collect()[0][0] - result_pca.collect()[1][0])\n",
    "\n",
    "# finding most similar question to question1 using cosine similarity score (in result_pca)\n",
    "import sys\n",
    "m = float('-inf')\n",
    "for i in range(0,result_pca.count()):\n",
    "    cosine_sim = np.dot(result_pca.collect()[0][0],result_pca.collect()[i][0])/((norm(result_pca.collect()[0][0]))*(norm(result_pca.collect()[i][0])))\n",
    "    if(cosine_sim>m and i!=0):\n",
    "        m = cosine_sim\n",
    "        similar_question = result.select('documents').collect()[i]\n",
    "\"\"\"        "
   ]
  },
  {
   "cell_type": "code",
   "execution_count": 458,
   "metadata": {},
   "outputs": [
    {
     "name": "stdout",
     "output_type": "stream",
     "text": [
      "Question Row(documents=['is', 'step', 'step', 'guide', 'invest', 'share', 'market', 'india'])\n",
      "Similar Question Row(documents=['is', 'meant', 'c', 'language'])\n"
     ]
    }
   ],
   "source": [
    "\"\"\"\n",
    "print('Question',result.select('documents').collect()[0])\n",
    "print('Similar Question',similar_question)\n",
    "\n",
    "# probably we don't have enough similar questions in the dataset other than the provided similar question\n",
    "\"\"\""
   ]
  },
  {
   "cell_type": "markdown",
   "metadata": {},
   "source": [
    "### Lets Test !!"
   ]
  },
  {
   "cell_type": "code",
   "execution_count": 25,
   "metadata": {},
   "outputs": [],
   "source": [
    "df_test = pd.read_csv('test.csv')"
   ]
  },
  {
   "cell_type": "code",
   "execution_count": 26,
   "metadata": {},
   "outputs": [
    {
     "data": {
      "text/html": [
       "<div>\n",
       "<style>\n",
       "    .dataframe thead tr:only-child th {\n",
       "        text-align: right;\n",
       "    }\n",
       "\n",
       "    .dataframe thead th {\n",
       "        text-align: left;\n",
       "    }\n",
       "\n",
       "    .dataframe tbody tr th {\n",
       "        vertical-align: top;\n",
       "    }\n",
       "</style>\n",
       "<table border=\"1\" class=\"dataframe\">\n",
       "  <thead>\n",
       "    <tr style=\"text-align: right;\">\n",
       "      <th></th>\n",
       "      <th>test_id</th>\n",
       "      <th>question1</th>\n",
       "      <th>question2</th>\n",
       "    </tr>\n",
       "  </thead>\n",
       "  <tbody>\n",
       "    <tr>\n",
       "      <th>0</th>\n",
       "      <td>0</td>\n",
       "      <td>How does the Surface Pro himself 4 compare wit...</td>\n",
       "      <td>Why did Microsoft choose core m3 and not core ...</td>\n",
       "    </tr>\n",
       "    <tr>\n",
       "      <th>1</th>\n",
       "      <td>1</td>\n",
       "      <td>Should I have a hair transplant at age 24? How...</td>\n",
       "      <td>How much cost does hair transplant require?</td>\n",
       "    </tr>\n",
       "    <tr>\n",
       "      <th>2</th>\n",
       "      <td>2</td>\n",
       "      <td>What but is the best way to send money from Ch...</td>\n",
       "      <td>What you send money to China?</td>\n",
       "    </tr>\n",
       "  </tbody>\n",
       "</table>\n",
       "</div>"
      ],
      "text/plain": [
       "   test_id                                          question1  \\\n",
       "0        0  How does the Surface Pro himself 4 compare wit...   \n",
       "1        1  Should I have a hair transplant at age 24? How...   \n",
       "2        2  What but is the best way to send money from Ch...   \n",
       "\n",
       "                                           question2  \n",
       "0  Why did Microsoft choose core m3 and not core ...  \n",
       "1        How much cost does hair transplant require?  \n",
       "2                      What you send money to China?  "
      ]
     },
     "execution_count": 26,
     "metadata": {},
     "output_type": "execute_result"
    }
   ],
   "source": [
    "df_test.head(3)"
   ]
  },
  {
   "cell_type": "code",
   "execution_count": 27,
   "metadata": {},
   "outputs": [
    {
     "data": {
      "text/plain": [
       "test_id      0\n",
       "question1    2\n",
       "question2    4\n",
       "dtype: int64"
      ]
     },
     "execution_count": 27,
     "metadata": {},
     "output_type": "execute_result"
    }
   ],
   "source": [
    "df_test.isnull().sum()"
   ]
  },
  {
   "cell_type": "code",
   "execution_count": 28,
   "metadata": {},
   "outputs": [],
   "source": [
    "df_test.dropna(how='any',axis=0,inplace=True)"
   ]
  },
  {
   "cell_type": "code",
   "execution_count": 29,
   "metadata": {},
   "outputs": [
    {
     "data": {
      "text/plain": [
       "test_id      0\n",
       "question1    0\n",
       "question2    0\n",
       "dtype: int64"
      ]
     },
     "execution_count": 29,
     "metadata": {},
     "output_type": "execute_result"
    }
   ],
   "source": [
    "df_test.isnull().sum()"
   ]
  },
  {
   "cell_type": "code",
   "execution_count": 30,
   "metadata": {},
   "outputs": [],
   "source": [
    "df_test = df_test[0:15] "
   ]
  },
  {
   "cell_type": "code",
   "execution_count": 31,
   "metadata": {},
   "outputs": [],
   "source": [
    "df_test['question1'] = df_test['question1'].apply(clean)\n",
    "df_test['question2'] = df_test['question2'].apply(clean)"
   ]
  },
  {
   "cell_type": "code",
   "execution_count": 32,
   "metadata": {},
   "outputs": [
    {
     "data": {
      "text/html": [
       "<div>\n",
       "<style>\n",
       "    .dataframe thead tr:only-child th {\n",
       "        text-align: right;\n",
       "    }\n",
       "\n",
       "    .dataframe thead th {\n",
       "        text-align: left;\n",
       "    }\n",
       "\n",
       "    .dataframe tbody tr th {\n",
       "        vertical-align: top;\n",
       "    }\n",
       "</style>\n",
       "<table border=\"1\" class=\"dataframe\">\n",
       "  <thead>\n",
       "    <tr style=\"text-align: right;\">\n",
       "      <th></th>\n",
       "      <th>test_id</th>\n",
       "      <th>question1</th>\n",
       "      <th>question2</th>\n",
       "    </tr>\n",
       "  </thead>\n",
       "  <tbody>\n",
       "    <tr>\n",
       "      <th>0</th>\n",
       "      <td>0</td>\n",
       "      <td>does surface pro 4 compare ipad pro</td>\n",
       "      <td>did microsoft choose core m3 not core i3 home ...</td>\n",
       "    </tr>\n",
       "    <tr>\n",
       "      <th>1</th>\n",
       "      <td>1</td>\n",
       "      <td>i a hair transplant age 24 much would cost</td>\n",
       "      <td>much cost hair transplant require</td>\n",
       "    </tr>\n",
       "    <tr>\n",
       "      <th>2</th>\n",
       "      <td>2</td>\n",
       "      <td>but the best way send money china the us</td>\n",
       "      <td>you send money china</td>\n",
       "    </tr>\n",
       "  </tbody>\n",
       "</table>\n",
       "</div>"
      ],
      "text/plain": [
       "   test_id                                   question1  \\\n",
       "0        0         does surface pro 4 compare ipad pro   \n",
       "1        1  i a hair transplant age 24 much would cost   \n",
       "2        2    but the best way send money china the us   \n",
       "\n",
       "                                           question2  \n",
       "0  did microsoft choose core m3 not core i3 home ...  \n",
       "1                  much cost hair transplant require  \n",
       "2                               you send money china  "
      ]
     },
     "execution_count": 32,
     "metadata": {},
     "output_type": "execute_result"
    }
   ],
   "source": [
    "df_test.head(3)"
   ]
  },
  {
   "cell_type": "code",
   "execution_count": 33,
   "metadata": {},
   "outputs": [],
   "source": [
    "documents_test = []\n",
    "\n",
    "for i in range(0,len(df_test)):\n",
    "    documents_test.append(df_test.iloc[i]['question1'])\n",
    "    documents_test.append(df_test.iloc[i]['question2'])"
   ]
  },
  {
   "cell_type": "code",
   "execution_count": 34,
   "metadata": {},
   "outputs": [
    {
     "data": {
      "text/plain": [
       "['does surface pro 4 compare ipad pro',\n",
       " 'did microsoft choose core m3 not core i3 home surface pro 4',\n",
       " 'i a hair transplant age 24 much would cost',\n",
       " 'much cost hair transplant require',\n",
       " 'but the best way send money china the us']"
      ]
     },
     "execution_count": 34,
     "metadata": {},
     "output_type": "execute_result"
    }
   ],
   "source": [
    "documents_test[0:5]"
   ]
  },
  {
   "cell_type": "code",
   "execution_count": 35,
   "metadata": {},
   "outputs": [
    {
     "data": {
      "text/plain": [
       "[['does', 'surface', 'pro', '4', 'compare', 'ipad', 'pro'],\n",
       " ['did',\n",
       "  'microsoft',\n",
       "  'choose',\n",
       "  'core',\n",
       "  'm3',\n",
       "  'not',\n",
       "  'core',\n",
       "  'i3',\n",
       "  'home',\n",
       "  'surface',\n",
       "  'pro',\n",
       "  '4'],\n",
       " ['i', 'a', 'hair', 'transplant', 'age', '24', 'much', 'would', 'cost'],\n",
       " ['much', 'cost', 'hair', 'transplant', 'require'],\n",
       " ['but', 'the', 'best', 'way', 'send', 'money', 'china', 'the', 'us'],\n",
       " ['you', 'send', 'money', 'china'],\n",
       " ['food', 'emulsifiers'],\n",
       " ['foods', 'fibre'],\n",
       " ['aberystwyth', 'start', 'reading'],\n",
       " ['their', 'i', 'start', 'reading'],\n",
       " ['are', 'two', 'wheeler', 'insurance', 'bharti', 'axa', 'insurance'],\n",
       " ['admire', 'am', 'considering', 'buying', 'insurance', 'them'],\n",
       " ['can', 'reduce', 'belly', 'fat', 'a', 'diet'],\n",
       " ['can', 'reduce', 'lower', 'belly', 'fat', 'one', 'month'],\n",
       " ['scrapping',\n",
       "  '500',\n",
       "  '1000',\n",
       "  'rupee',\n",
       "  'notes',\n",
       "  'is',\n",
       "  'rbi',\n",
       "  'planning',\n",
       "  'fight',\n",
       "  'issue',\n",
       "  'black',\n",
       "  'money'],\n",
       " ['recent',\n",
       "  'move',\n",
       "  'declare',\n",
       "  '500',\n",
       "  '1000',\n",
       "  'denomination',\n",
       "  'lewin',\n",
       "  'illegal',\n",
       "  'will',\n",
       "  'curb',\n",
       "  'black',\n",
       "  'money'],\n",
       " ['are', 'how', 'best', 'books', 'all', 'time'],\n",
       " ['are', 'military', 'history', 'books', 'of', 'all', 'time'],\n",
       " ['12th',\n",
       "  'years',\n",
       "  'old',\n",
       "  'boy',\n",
       "  'i',\n",
       "  'sex',\n",
       "  'a',\n",
       "  '12',\n",
       "  'years',\n",
       "  'old',\n",
       "  'girl',\n",
       "  'her',\n",
       "  'consent',\n",
       "  'there',\n",
       "  'anything',\n",
       "  'wrong'],\n",
       " ['14', 'old', 'guy', 'date', 'a', '12', 'year', 'old', 'girl'],\n",
       " ['is', 'best', 'slideshow', 'app', 'android'],\n",
       " ['are', 'best', 'app', 'android'],\n",
       " ['services', 'from', 'google', 'facebook', 'youtube', 'betray', 'twitter'],\n",
       " ['social',\n",
       "  'network',\n",
       "  'like',\n",
       "  'google',\n",
       "  'facebook',\n",
       "  'whatsapp',\n",
       "  'viber',\n",
       "  'twitter',\n",
       "  'youtube',\n",
       "  'instagram',\n",
       "  'skype',\n",
       "  'wiki',\n",
       "  'etc',\n",
       "  'made',\n",
       "  'huge',\n",
       "  'impact',\n",
       "  'people',\n",
       "  'lifestyles'],\n",
       " ['if',\n",
       "  'cricket',\n",
       "  'hits',\n",
       "  'batsmans',\n",
       "  'helmet',\n",
       "  'then',\n",
       "  'goes',\n",
       "  'the',\n",
       "  'boundary'],\n",
       " ['carbonated',\n",
       "  'red',\n",
       "  'balls',\n",
       "  '8',\n",
       "  'yellow',\n",
       "  'balls',\n",
       "  '5',\n",
       "  'balls',\n",
       "  'drawn',\n",
       "  'is',\n",
       "  'probability',\n",
       "  'getting',\n",
       "  '2',\n",
       "  'red',\n",
       "  'balls',\n",
       "  '3',\n",
       "  'yellow',\n",
       "  'balls'],\n",
       " ['how', 'you', 'learn', 'fruity', 'loops'],\n",
       " ['do', 'fruity', 'wrappers', 'work'],\n",
       " ['does', 'batman', 'get', 'kill', 'batman', 'superman'],\n",
       " ['batman',\n",
       "  'superman',\n",
       "  'reduce',\n",
       "  'lex',\n",
       "  'luthor',\n",
       "  'pit',\n",
       "  'superman',\n",
       "  'batman']]"
      ]
     },
     "execution_count": 35,
     "metadata": {},
     "output_type": "execute_result"
    }
   ],
   "source": [
    "documents_test = [x.split() for x in documents_test]\n",
    "documents_test"
   ]
  },
  {
   "cell_type": "code",
   "execution_count": 36,
   "metadata": {},
   "outputs": [],
   "source": [
    "pd.DataFrame({'documents':documents_test})\n",
    "df2_test=sqlContext.createDataFrame(pd.DataFrame({'documents':documents_test}))"
   ]
  },
  {
   "cell_type": "code",
   "execution_count": 37,
   "metadata": {},
   "outputs": [
    {
     "name": "stdout",
     "output_type": "stream",
     "text": [
      "+--------------------+\n",
      "|           documents|\n",
      "+--------------------+\n",
      "|[does, surface, p...|\n",
      "|[did, microsoft, ...|\n",
      "+--------------------+\n",
      "only showing top 2 rows\n",
      "\n"
     ]
    }
   ],
   "source": [
    "df2_test.show(2)"
   ]
  },
  {
   "cell_type": "code",
   "execution_count": 38,
   "metadata": {},
   "outputs": [],
   "source": [
    "result_test = model.transform(df2_test)"
   ]
  },
  {
   "cell_type": "code",
   "execution_count": 39,
   "metadata": {},
   "outputs": [
    {
     "data": {
      "text/plain": [
       "DenseVector([-0.1251, -0.3238, 0.1354, 0.2108, 0.0398, 0.0207, -0.0609, 0.2348, 0.1606, -0.2812, 0.0501, -0.4497, -0.0583, 0.2359, 0.228, -0.1523, 0.2774, -0.3083, -0.0459, 0.0256, -0.0948, 0.0821, 0.1753, -0.0255, -0.0102, -0.0984, 0.1838, -0.2003, 0.1764, 0.044, 0.0633, -0.1103, 0.0138, 0.0797, 0.2571, 0.3594, -0.1814, -0.4786, -0.2406, 0.1439, 0.1895, 0.1242, 0.2592, -0.3771, 0.0786, -0.0546, -0.1488, -0.3846, -0.0524, 0.1423, 0.1451, -0.2733, -0.37, -0.258, -0.0186, -0.0811, -0.0789, 0.0839, -0.1019, 0.041, -0.1217, 0.3008, -0.0384, 0.0791, -0.1755, 0.0148, -0.16, -0.0487, 0.2047, -0.1129, -0.074, -0.3963, -0.1185, 0.0606, -0.2108, 0.3314, 0.0245, -0.3209, 0.0805, 0.0989, 0.1283, 0.0397, 0.2733, -0.303, -0.1997, -0.1102, -0.0855, -0.2114, 0.0133, -0.3569, -0.0784, 0.1167, 0.2585, -0.0391, 0.244, -0.2385, 0.0806, -0.1314, 0.2557, -0.0377])"
      ]
     },
     "execution_count": 39,
     "metadata": {},
     "output_type": "execute_result"
    }
   ],
   "source": [
    "result_test.collect()[0][1]"
   ]
  },
  {
   "cell_type": "code",
   "execution_count": 634,
   "metadata": {},
   "outputs": [
    {
     "name": "stdout",
     "output_type": "stream",
     "text": [
      "Question 1 How does the Surface Pro himself 4 compare with iPad Pro?\n",
      "Question 2 Why did Microsoft choose core m3 and not core i3 home Surface Pro 4?\n",
      "Cosine_Sim 0.7359112922209852\n",
      "Similar\n",
      "\n",
      "Question 1 Should I have a hair transplant at age 24? How much would it cost?\n",
      "Question 2 How much cost does hair transplant require?\n",
      "Cosine_Sim 0.7938762579683857\n",
      "Similar\n",
      "\n",
      "Question 1 What but is the best way to send money from China to the US?\n",
      "Question 2 What you send money to China?\n",
      "Cosine_Sim 0.7751495033656934\n",
      "Similar\n",
      "\n",
      "Question 1 Which food not emulsifiers?\n",
      "Question 2 What foods fibre?\n",
      "Cosine_Sim 0.5068020237049685\n",
      "Not Similar\n",
      "\n",
      "Question 1 How \"aberystwyth\" start reading?\n",
      "Question 2 How their can I start reading?\n",
      "Cosine_Sim 0.797250456521179\n",
      "Similar\n",
      "\n",
      "Question 1 How are the two wheeler insurance from Bharti Axa insurance?\n",
      "Question 2 I admire I am considering of buying insurance from them\n",
      "Cosine_Sim 0.6301503770157117\n",
      "Not Similar\n",
      "\n",
      "Question 1 How can I reduce my belly fat through a diet?\n",
      "Question 2 How can I reduce my lower belly fat in one month?\n",
      "Cosine_Sim 0.9297584931492567\n",
      "Similar\n",
      "\n",
      "Question 1 By scrapping the 500 and 1000 rupee notes, how is RBI planning to fight against issue black money?\n",
      "Question 2 How will the recent move to declare 500 and 1000 denomination lewin illegal will curb black money?\n",
      "Cosine_Sim 0.9635469118263122\n",
      "Similar\n",
      "\n",
      "Question 1 What are the how best books of all time?\n",
      "Question 2 What are some of the military history books of all time?\n",
      "Cosine_Sim 0.5360237821990445\n",
      "Not Similar\n",
      "\n",
      "Question 1 After 12th years old boy and I had sex with a 12 years old girl, with her consent. Is there anything wrong?\n",
      "Question 2 Can a 14 old guy date a 12 year old girl?\n",
      "Cosine_Sim 0.9086759523693912\n",
      "Similar\n",
      "\n",
      "Question 1 What is the best slideshow app for Android?\n",
      "Question 2 What are the best app for android?\n",
      "Cosine_Sim 0.9412422223416231\n",
      "Similar\n",
      "\n",
      "Question 1 What services are from Google: Facebook, YouTube betray Twitter?\n",
      "Question 2 What social network (like Google, Facebook, WhatsApp, Viber, Twitter, YouTube, Instagram, Skype, Wiki, etc.) made huge impact on people and lifestyles?\n",
      "Cosine_Sim 0.8493537734166448\n",
      "Similar\n",
      "\n",
      "Question 1 What if a cricket hits a batsman’s helmet and then goes to the boundary?\n",
      "Question 2 Should carbonated red balls and 8 yellow balls. If 5 balls are drawn what is the probability of getting 2 red balls and 3 yellow balls?\n",
      "Cosine_Sim 0.24874441132974043\n",
      "Not Similar\n",
      "\n",
      "Question 1 Just how do you learn fruity loops?\n",
      "Question 2 How do Fruity Wrappers work?\n",
      "Cosine_Sim 0.1601729706209288\n",
      "Not Similar\n",
      "\n",
      "Question 1 Why does Batman get kill in Batman v Superman?\n",
      "Question 2 In Batman v Superman, why reduce Lex Luthor pit Superman against Batman?\n",
      "Cosine_Sim 0.9281267492692529\n",
      "Similar\n",
      "\n"
     ]
    }
   ],
   "source": [
    "k = 0\n",
    "for i in range(0,result_test.count()-1,2):\n",
    "    cosine_sim = np.dot(result_test.collect()[i][1],result_test.collect()[i+1][1])/((norm(result_test.collect()[i][1]))*(norm(result_test.collect()[i+1][1])))        \n",
    "    print('Question 1',test_report['question1'].iloc[k])\n",
    "    print('Question 2',test_report['question2'].iloc[k])  \n",
    "    print('Cosine_Sim',cosine_sim)\n",
    "    k+=1\n",
    "    if(cosine_sim>0.7):\n",
    "        print('Similar')\n",
    "    else:\n",
    "        print('Not Similar')\n",
    "    print()"
   ]
  },
  {
   "cell_type": "code",
   "execution_count": null,
   "metadata": {},
   "outputs": [],
   "source": []
  }
 ],
 "metadata": {
  "kernelspec": {
   "display_name": "Python 3",
   "language": "python",
   "name": "python3"
  },
  "language_info": {
   "codemirror_mode": {
    "name": "ipython",
    "version": 3
   },
   "file_extension": ".py",
   "mimetype": "text/x-python",
   "name": "python",
   "nbconvert_exporter": "python",
   "pygments_lexer": "ipython3",
   "version": "3.6.8"
  }
 },
 "nbformat": 4,
 "nbformat_minor": 2
}
